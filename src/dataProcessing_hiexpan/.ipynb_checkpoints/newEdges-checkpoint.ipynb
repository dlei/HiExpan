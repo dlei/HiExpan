{
 "cells": [
  {
   "cell_type": "code",
   "execution_count": 1,
   "metadata": {},
   "outputs": [
    {
     "ename": "FileNotFoundError",
     "evalue": "[Errno 2] No such file or directory: '../../data/-f/results//run/user/314106/jupyter/kernel-12bcb4cd-da66-4602-a239-21f55e07d270_edges.txt'",
     "output_type": "error",
     "traceback": [
      "\u001b[0;31m---------------------------------------------------------------------------\u001b[0m",
      "\u001b[0;31mFileNotFoundError\u001b[0m                         Traceback (most recent call last)",
      "\u001b[0;32m<ipython-input-1-24d64106e41d>\u001b[0m in \u001b[0;36m<module>\u001b[0;34m()\u001b[0m\n\u001b[1;32m     22\u001b[0m \u001b[0;34m\u001b[0m\u001b[0m\n\u001b[1;32m     23\u001b[0m     \u001b[0mexistingMap\u001b[0m \u001b[0;34m=\u001b[0m \u001b[0;34m{\u001b[0m\u001b[0;34m}\u001b[0m\u001b[0;34m\u001b[0m\u001b[0m\n\u001b[0;32m---> 24\u001b[0;31m     \u001b[0;32mwith\u001b[0m \u001b[0mopen\u001b[0m\u001b[0;34m(\u001b[0m\u001b[0mexistingFile\u001b[0m\u001b[0;34m)\u001b[0m \u001b[0;32mas\u001b[0m \u001b[0mfin\u001b[0m\u001b[0;34m:\u001b[0m\u001b[0;34m\u001b[0m\u001b[0m\n\u001b[0m\u001b[1;32m     25\u001b[0m         \u001b[0;32mfor\u001b[0m \u001b[0mline\u001b[0m \u001b[0;32min\u001b[0m \u001b[0mfin\u001b[0m\u001b[0;34m:\u001b[0m\u001b[0;34m\u001b[0m\u001b[0m\n\u001b[1;32m     26\u001b[0m             \u001b[0mexistingMap\u001b[0m\u001b[0;34m[\u001b[0m\u001b[0mgetLineKey\u001b[0m\u001b[0;34m(\u001b[0m\u001b[0mline\u001b[0m\u001b[0;34m)\u001b[0m\u001b[0;34m]\u001b[0m \u001b[0;34m=\u001b[0m \u001b[0;32mTrue\u001b[0m\u001b[0;34m\u001b[0m\u001b[0m\n",
      "\u001b[0;31mFileNotFoundError\u001b[0m: [Errno 2] No such file or directory: '../../data/-f/results//run/user/314106/jupyter/kernel-12bcb4cd-da66-4602-a239-21f55e07d270_edges.txt'"
     ]
    }
   ],
   "source": [
    "# generate new edges\n",
    "# @dlei5\n",
    "\n",
    "\"\"\"\n",
    "taking in an existing edges\n",
    "output newly added edges\n",
    "\"\"\"\n",
    "\n",
    "import sys\n",
    "from collections import defaultdict\n",
    "\n",
    "\n",
    "def getLineKey(line):\n",
    "    segs = line.strip().split(\"\\t\")\n",
    "    key = segs[0] + \"^\" + segs[1]\n",
    "    return key    \n",
    "    \n",
    "if __name__ == \"__main__\":\n",
    "    if len(sys.argv) < 4:\n",
    "        print(\"usage: python generateEdges.py $DATANAME $TAXONOMY_TREE_FILE\")\n",
    "\n",
    "    data = sys.argv[1]\n",
    "    old = sys.argv[2]\n",
    "    new = sys.argv[3]\n",
    "\n",
    "    dataDir = '../../data/' + data + '/results/'\n",
    "    existingFile = dataDir + old\n",
    "    newInputFile = dataDir + new\n",
    "    \n",
    "    existingMap = {}\n",
    "    with open(existingFile) as fin:\n",
    "        for line in fin:\n",
    "            existingMap[getLineKey(line)] = True\n",
    "            \n",
    "        \n",
    "    with open(newInputFile) as fin:\n",
    "        for line in fin:\n",
    "            if getLineKey(line) not in existingMap:\n",
    "                segs = line.strip().split(\"\\t\")\n",
    "                print(segs[0]+\"\\t\"+segs[1])\n",
    "                \n"
   ]
  }
 ],
 "metadata": {
  "kernelspec": {
   "display_name": "Python 3",
   "language": "python",
   "name": "python3"
  },
  "language_info": {
   "codemirror_mode": {
    "name": "ipython",
    "version": 3
   },
   "file_extension": ".py",
   "mimetype": "text/x-python",
   "name": "python",
   "nbconvert_exporter": "python",
   "pygments_lexer": "ipython3",
   "version": "3.6.3"
  }
 },
 "nbformat": 4,
 "nbformat_minor": 2
}
