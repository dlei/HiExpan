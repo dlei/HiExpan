{
 "cells": [
  {
   "cell_type": "code",
   "execution_count": null,
   "metadata": {
    "collapsed": true
   },
   "outputs": [],
   "source": [
    "# @dlei5\n",
    "\n",
    "# import libs\n",
    "import numpy as np\n",
    "from scipy.spatial import distance\n",
    "import math\n",
    "\n",
    "import util\n",
    "import set_expan\n",
    "import time\n",
    "import pickle\n",
    "\n",
    "from tree_node import TreeNode\n",
    "from collections import defaultdict"
   ]
  },
  {
   "cell_type": "code",
   "execution_count": null,
   "metadata": {
    "collapsed": true
   },
   "outputs": [],
   "source": [
    "# set up global vars\n",
    "\n",
    "level2max_children = {-1:10, 0:15, 1:5, 2:1e9, 3:1e9, 4:1e9, 5:1e9}\n",
    "level2reference_edges = defaultdict(list)\n",
    "negativeSeedEids = set()\n",
    "load_pickle_flag = True\n",
    "FLAGS_USE_TYPE = True\n",
    "\n",
    "\n",
    "\n",
    "data = \"dblpv2\"\n",
    "folder = '../../data/'+data+'/intermediate/'\n",
    "\n",
    "userInput = [\n",
    "  [\"ROOT\", -1, [\"machine learning\", \"data mining\", \"information retrieval\"]],\n",
    "\n",
    "  [\"machine learning\", 0, [\"supervised machine learning\", \"unsupervised learning\", \"reinforcement learning\"]],\n",
    "  [\"data mining\", 0, [\"pattern mining\", \"graph mining\", \"web mining\", \"text mining\"]],\n",
    "  [\"information retrieval\", 0, [\"document retrieval\", \"query processing\", \"relevance feedback\"]],\n",
    "\n",
    "  [\"supervised machine learning\", 1, [\"support vector machines\", \"decision trees\", \"random forests\"]],\n",
    "  [\"unsupervised learning\", 1, [\"agglomerative clustering\", \"principle component analysis\", \"latent dirichlet allocation\"]],\n",
    "  [\"reinforcement learning\", 1, [\"markov decision processes\", \"policy gradient\"]]\n",
    "  # [\"supervised machine learning\", 0, [\"named entity recognition\", \"information extraction\", \"machine translation\"]],\n",
    "  # [\"neural networks\", 1, [\"convolutional neural network\", \"recurrent neural networks\"]],\n",
    "]"
   ]
  },
  {
   "cell_type": "code",
   "execution_count": null,
   "metadata": {
    "collapsed": true
   },
   "outputs": [],
   "source": [
    "# load pickle data \n",
    "\n",
    "print(\"=== Start loading all files ...... ===\")\n",
    "print(\"load_from_pickle\")\n",
    "pickle_file = '../../data/' + data + '/intermediate/all_data.pickle'\n",
    "with open(pickle_file, \"rb\") as fin:\n",
    "    [eid2ename, ename2eid, eid2patterns, pattern2eids, eidAndPattern2strength, eid2types, type2eids,\n",
    "     eidAndType2strength, eid2embed, embed_matrix, eid2rank, rank2eid, embed_matrix_array, skipgramsByEidPairMap,\n",
    "     eidPairsBySkipgramMap, weightByEidPairAndSkipgramMap] = pickle.load(fin)\n",
    "print(\"=== Finish loading all files. HaHaHa ===\")\n",
    "\n",
    "\n",
    "# load PPMI\n",
    "print('loading eid pair document-level PPMI score')\n",
    "eidpair2PPMI = util.loadEidDocPairPPMI(folder + 'eidDocPairPPMI.txt')\n",
    "\n",
    "\n"
   ]
  }
 ],
 "metadata": {
  "kernelspec": {
   "display_name": "Python 3",
   "language": "python",
   "name": "python3"
  },
  "language_info": {
   "codemirror_mode": {
    "name": "ipython",
    "version": 3
   },
   "file_extension": ".py",
   "mimetype": "text/x-python",
   "name": "python",
   "nbconvert_exporter": "python",
   "pygments_lexer": "ipython3",
   "version": "3.6.3"
  }
 },
 "nbformat": 4,
 "nbformat_minor": 2
}
